{
 "cells": [
  {
   "cell_type": "markdown",
   "metadata": {},
   "source": [
    "# Price Forecast for New York Airbnb"
   ]
  },
  {
   "cell_type": "markdown",
   "metadata": {},
   "source": [
    "## Programming Language: R\n",
    "## Data Preprocessing"
   ]
  },
  {
   "cell_type": "markdown",
   "metadata": {},
   "source": [
    "- Select useful variables to make prediction.\n",
    "- Data preprocessing: convert data type, replace NA value, take out outliers."
   ]
  },
  {
   "cell_type": "code",
   "execution_count": 14,
   "metadata": {},
   "outputs": [
    {
     "data": {
      "text/html": [
       "<table class=\"dataframe\">\n",
       "<caption>A data.frame: 6 × 19</caption>\n",
       "<thead>\n",
       "\t<tr><th></th><th scope=col>id</th><th scope=col>name</th><th scope=col>host_id</th><th scope=col>host_name</th><th scope=col>neighbourhood_group</th><th scope=col>neighbourhood</th><th scope=col>latitude</th><th scope=col>longitude</th><th scope=col>room_type</th><th scope=col>price</th><th scope=col>minimum_nights</th><th scope=col>number_of_reviews</th><th scope=col>last_review</th><th scope=col>reviews_per_month</th><th scope=col>calculated_host_listings_count</th><th scope=col>availability_365</th><th scope=col>X</th><th scope=col>X.1</th><th scope=col>X.2</th></tr>\n",
       "\t<tr><th></th><th scope=col>&lt;chr&gt;</th><th scope=col>&lt;chr&gt;</th><th scope=col>&lt;chr&gt;</th><th scope=col>&lt;chr&gt;</th><th scope=col>&lt;chr&gt;</th><th scope=col>&lt;chr&gt;</th><th scope=col>&lt;chr&gt;</th><th scope=col>&lt;chr&gt;</th><th scope=col>&lt;chr&gt;</th><th scope=col>&lt;chr&gt;</th><th scope=col>&lt;chr&gt;</th><th scope=col>&lt;chr&gt;</th><th scope=col>&lt;chr&gt;</th><th scope=col>&lt;chr&gt;</th><th scope=col>&lt;chr&gt;</th><th scope=col>&lt;dbl&gt;</th><th scope=col>&lt;int&gt;</th><th scope=col>&lt;int&gt;</th><th scope=col>&lt;int&gt;</th></tr>\n",
       "</thead>\n",
       "<tbody>\n",
       "\t<tr><th scope=row>1</th><td>2539</td><td><span style=white-space:pre-wrap>Clean &amp; quiet apt home by the park              </span></td><td>2787</td><td><span style=white-space:pre-wrap>John       </span></td><td>Brooklyn </td><td><span style=white-space:pre-wrap>Kensington  </span></td><td>40.64749</td><td>-73.97237</td><td><span style=white-space:pre-wrap>Private room   </span></td><td>149</td><td>1 </td><td><span style=white-space:pre-wrap>9  </span></td><td>2018/10/19</td><td>0.21</td><td>6</td><td>365</td><td>NA</td><td>NA</td><td>NA</td></tr>\n",
       "\t<tr><th scope=row>2</th><td>2595</td><td>Skylit Midtown Castle                           </td><td>2845</td><td>Jennifer   </td><td>Manhattan</td><td>Midtown     </td><td>40.75362</td><td>-73.98377</td><td>Entire home/apt</td><td>225</td><td>1 </td><td>45 </td><td>2019/5/21 </td><td>0.38</td><td>2</td><td>355</td><td>NA</td><td>NA</td><td>NA</td></tr>\n",
       "\t<tr><th scope=row>3</th><td>3647</td><td>THE VILLAGE OF HARLEM....NEW YORK !             </td><td>4632</td><td>Elisabeth  </td><td>Manhattan</td><td>Harlem      </td><td>40.80902</td><td>-73.9419 </td><td>Private room   </td><td>150</td><td>3 </td><td>0  </td><td>          </td><td>    </td><td>1</td><td>365</td><td>NA</td><td>NA</td><td>NA</td></tr>\n",
       "\t<tr><th scope=row>4</th><td>3831</td><td>Cozy Entire Floor of Brownstone                 </td><td>4869</td><td>LisaRoxanne</td><td>Brooklyn </td><td>Clinton Hill</td><td>40.68514</td><td>-73.95976</td><td>Entire home/apt</td><td>89 </td><td>1 </td><td>270</td><td>2019/7/5  </td><td>4.64</td><td>1</td><td>194</td><td>NA</td><td>NA</td><td>NA</td></tr>\n",
       "\t<tr><th scope=row>5</th><td>5022</td><td>Entire Apt: Spacious Studio/Loft by central park</td><td>7192</td><td>Laura      </td><td>Manhattan</td><td>East Harlem </td><td>40.79851</td><td>-73.94399</td><td>Entire home/apt</td><td>80 </td><td>10</td><td>9  </td><td>2018/11/19</td><td>0.1 </td><td>1</td><td>  0</td><td>NA</td><td>NA</td><td>NA</td></tr>\n",
       "\t<tr><th scope=row>6</th><td>5099</td><td>Large Cozy 1 BR Apartment In Midtown East       </td><td>7322</td><td>Chris      </td><td>Manhattan</td><td>Murray Hill </td><td>40.74767</td><td>-73.975  </td><td>Entire home/apt</td><td>200</td><td>3 </td><td>74 </td><td>2019/6/22 </td><td>0.59</td><td>1</td><td>129</td><td>NA</td><td>NA</td><td>NA</td></tr>\n",
       "</tbody>\n",
       "</table>\n"
      ],
      "text/latex": [
       "A data.frame: 6 × 19\n",
       "\\begin{tabular}{r|lllllllllllllllllll}\n",
       "  & id & name & host\\_id & host\\_name & neighbourhood\\_group & neighbourhood & latitude & longitude & room\\_type & price & minimum\\_nights & number\\_of\\_reviews & last\\_review & reviews\\_per\\_month & calculated\\_host\\_listings\\_count & availability\\_365 & X & X.1 & X.2\\\\\n",
       "  & <chr> & <chr> & <chr> & <chr> & <chr> & <chr> & <chr> & <chr> & <chr> & <chr> & <chr> & <chr> & <chr> & <chr> & <chr> & <dbl> & <int> & <int> & <int>\\\\\n",
       "\\hline\n",
       "\t1 & 2539 & Clean \\& quiet apt home by the park               & 2787 & John        & Brooklyn  & Kensington   & 40.64749 & -73.97237 & Private room    & 149 & 1  & 9   & 2018/10/19 & 0.21 & 6 & 365 & NA & NA & NA\\\\\n",
       "\t2 & 2595 & Skylit Midtown Castle                            & 2845 & Jennifer    & Manhattan & Midtown      & 40.75362 & -73.98377 & Entire home/apt & 225 & 1  & 45  & 2019/5/21  & 0.38 & 2 & 355 & NA & NA & NA\\\\\n",
       "\t3 & 3647 & THE VILLAGE OF HARLEM....NEW YORK !              & 4632 & Elisabeth   & Manhattan & Harlem       & 40.80902 & -73.9419  & Private room    & 150 & 3  & 0   &            &      & 1 & 365 & NA & NA & NA\\\\\n",
       "\t4 & 3831 & Cozy Entire Floor of Brownstone                  & 4869 & LisaRoxanne & Brooklyn  & Clinton Hill & 40.68514 & -73.95976 & Entire home/apt & 89  & 1  & 270 & 2019/7/5   & 4.64 & 1 & 194 & NA & NA & NA\\\\\n",
       "\t5 & 5022 & Entire Apt: Spacious Studio/Loft by central park & 7192 & Laura       & Manhattan & East Harlem  & 40.79851 & -73.94399 & Entire home/apt & 80  & 10 & 9   & 2018/11/19 & 0.1  & 1 &   0 & NA & NA & NA\\\\\n",
       "\t6 & 5099 & Large Cozy 1 BR Apartment In Midtown East        & 7322 & Chris       & Manhattan & Murray Hill  & 40.74767 & -73.975   & Entire home/apt & 200 & 3  & 74  & 2019/6/22  & 0.59 & 1 & 129 & NA & NA & NA\\\\\n",
       "\\end{tabular}\n"
      ],
      "text/markdown": [
       "\n",
       "A data.frame: 6 × 19\n",
       "\n",
       "| <!--/--> | id &lt;chr&gt; | name &lt;chr&gt; | host_id &lt;chr&gt; | host_name &lt;chr&gt; | neighbourhood_group &lt;chr&gt; | neighbourhood &lt;chr&gt; | latitude &lt;chr&gt; | longitude &lt;chr&gt; | room_type &lt;chr&gt; | price &lt;chr&gt; | minimum_nights &lt;chr&gt; | number_of_reviews &lt;chr&gt; | last_review &lt;chr&gt; | reviews_per_month &lt;chr&gt; | calculated_host_listings_count &lt;chr&gt; | availability_365 &lt;dbl&gt; | X &lt;int&gt; | X.1 &lt;int&gt; | X.2 &lt;int&gt; |\n",
       "|---|---|---|---|---|---|---|---|---|---|---|---|---|---|---|---|---|---|---|---|\n",
       "| 1 | 2539 | Clean &amp; quiet apt home by the park               | 2787 | John        | Brooklyn  | Kensington   | 40.64749 | -73.97237 | Private room    | 149 | 1  | 9   | 2018/10/19 | 0.21 | 6 | 365 | NA | NA | NA |\n",
       "| 2 | 2595 | Skylit Midtown Castle                            | 2845 | Jennifer    | Manhattan | Midtown      | 40.75362 | -73.98377 | Entire home/apt | 225 | 1  | 45  | 2019/5/21  | 0.38 | 2 | 355 | NA | NA | NA |\n",
       "| 3 | 3647 | THE VILLAGE OF HARLEM....NEW YORK !              | 4632 | Elisabeth   | Manhattan | Harlem       | 40.80902 | -73.9419  | Private room    | 150 | 3  | 0   | <!----> | <!----> | 1 | 365 | NA | NA | NA |\n",
       "| 4 | 3831 | Cozy Entire Floor of Brownstone                  | 4869 | LisaRoxanne | Brooklyn  | Clinton Hill | 40.68514 | -73.95976 | Entire home/apt | 89  | 1  | 270 | 2019/7/5   | 4.64 | 1 | 194 | NA | NA | NA |\n",
       "| 5 | 5022 | Entire Apt: Spacious Studio/Loft by central park | 7192 | Laura       | Manhattan | East Harlem  | 40.79851 | -73.94399 | Entire home/apt | 80  | 10 | 9   | 2018/11/19 | 0.1  | 1 |   0 | NA | NA | NA |\n",
       "| 6 | 5099 | Large Cozy 1 BR Apartment In Midtown East        | 7322 | Chris       | Manhattan | Murray Hill  | 40.74767 | -73.975   | Entire home/apt | 200 | 3  | 74  | 2019/6/22  | 0.59 | 1 | 129 | NA | NA | NA |\n",
       "\n"
      ],
      "text/plain": [
       "  id   name                                             host_id host_name  \n",
       "1 2539 Clean & quiet apt home by the park               2787    John       \n",
       "2 2595 Skylit Midtown Castle                            2845    Jennifer   \n",
       "3 3647 THE VILLAGE OF HARLEM....NEW YORK !              4632    Elisabeth  \n",
       "4 3831 Cozy Entire Floor of Brownstone                  4869    LisaRoxanne\n",
       "5 5022 Entire Apt: Spacious Studio/Loft by central park 7192    Laura      \n",
       "6 5099 Large Cozy 1 BR Apartment In Midtown East        7322    Chris      \n",
       "  neighbourhood_group neighbourhood latitude longitude room_type       price\n",
       "1 Brooklyn            Kensington    40.64749 -73.97237 Private room    149  \n",
       "2 Manhattan           Midtown       40.75362 -73.98377 Entire home/apt 225  \n",
       "3 Manhattan           Harlem        40.80902 -73.9419  Private room    150  \n",
       "4 Brooklyn            Clinton Hill  40.68514 -73.95976 Entire home/apt 89   \n",
       "5 Manhattan           East Harlem   40.79851 -73.94399 Entire home/apt 80   \n",
       "6 Manhattan           Murray Hill   40.74767 -73.975   Entire home/apt 200  \n",
       "  minimum_nights number_of_reviews last_review reviews_per_month\n",
       "1 1              9                 2018/10/19  0.21             \n",
       "2 1              45                2019/5/21   0.38             \n",
       "3 3              0                                              \n",
       "4 1              270               2019/7/5    4.64             \n",
       "5 10             9                 2018/11/19  0.1              \n",
       "6 3              74                2019/6/22   0.59             \n",
       "  calculated_host_listings_count availability_365 X  X.1 X.2\n",
       "1 6                              365              NA NA  NA \n",
       "2 2                              355              NA NA  NA \n",
       "3 1                              365              NA NA  NA \n",
       "4 1                              194              NA NA  NA \n",
       "5 1                                0              NA NA  NA \n",
       "6 1                              129              NA NA  NA "
      ]
     },
     "metadata": {},
     "output_type": "display_data"
    }
   ],
   "source": [
    "df <- read.csv(\"AB_NYC_2019.csv\")\n",
    "head(df)"
   ]
  },
  {
   "cell_type": "markdown",
   "metadata": {},
   "source": [
    "- price, minimum nights, number of reviews, reviews per month those should be numeric but now is character.\n",
    "- convert from character to number.\n",
    "- neighbourhood_group, room_type convert to factor."
   ]
  },
  {
   "cell_type": "code",
   "execution_count": 15,
   "metadata": {},
   "outputs": [
    {
     "data": {
      "text/html": [
       "<table class=\"dataframe\">\n",
       "<caption>A data.frame: 6 × 6</caption>\n",
       "<thead>\n",
       "\t<tr><th></th><th scope=col>neighbourhood_group</th><th scope=col>room_type</th><th scope=col>price</th><th scope=col>minimum_nights</th><th scope=col>number_of_reviews</th><th scope=col>reviews_per_month</th></tr>\n",
       "\t<tr><th></th><th scope=col>&lt;chr&gt;</th><th scope=col>&lt;chr&gt;</th><th scope=col>&lt;chr&gt;</th><th scope=col>&lt;chr&gt;</th><th scope=col>&lt;chr&gt;</th><th scope=col>&lt;chr&gt;</th></tr>\n",
       "</thead>\n",
       "<tbody>\n",
       "\t<tr><th scope=row>1</th><td>Brooklyn </td><td>Private room   </td><td>149</td><td>1 </td><td>9  </td><td>0.21</td></tr>\n",
       "\t<tr><th scope=row>2</th><td>Manhattan</td><td>Entire home/apt</td><td>225</td><td>1 </td><td>45 </td><td>0.38</td></tr>\n",
       "\t<tr><th scope=row>3</th><td>Manhattan</td><td>Private room   </td><td>150</td><td>3 </td><td>0  </td><td>    </td></tr>\n",
       "\t<tr><th scope=row>4</th><td>Brooklyn </td><td>Entire home/apt</td><td>89 </td><td>1 </td><td>270</td><td>4.64</td></tr>\n",
       "\t<tr><th scope=row>5</th><td>Manhattan</td><td>Entire home/apt</td><td>80 </td><td>10</td><td>9  </td><td>0.1 </td></tr>\n",
       "\t<tr><th scope=row>6</th><td>Manhattan</td><td>Entire home/apt</td><td>200</td><td>3 </td><td>74 </td><td>0.59</td></tr>\n",
       "</tbody>\n",
       "</table>\n"
      ],
      "text/latex": [
       "A data.frame: 6 × 6\n",
       "\\begin{tabular}{r|llllll}\n",
       "  & neighbourhood\\_group & room\\_type & price & minimum\\_nights & number\\_of\\_reviews & reviews\\_per\\_month\\\\\n",
       "  & <chr> & <chr> & <chr> & <chr> & <chr> & <chr>\\\\\n",
       "\\hline\n",
       "\t1 & Brooklyn  & Private room    & 149 & 1  & 9   & 0.21\\\\\n",
       "\t2 & Manhattan & Entire home/apt & 225 & 1  & 45  & 0.38\\\\\n",
       "\t3 & Manhattan & Private room    & 150 & 3  & 0   &     \\\\\n",
       "\t4 & Brooklyn  & Entire home/apt & 89  & 1  & 270 & 4.64\\\\\n",
       "\t5 & Manhattan & Entire home/apt & 80  & 10 & 9   & 0.1 \\\\\n",
       "\t6 & Manhattan & Entire home/apt & 200 & 3  & 74  & 0.59\\\\\n",
       "\\end{tabular}\n"
      ],
      "text/markdown": [
       "\n",
       "A data.frame: 6 × 6\n",
       "\n",
       "| <!--/--> | neighbourhood_group &lt;chr&gt; | room_type &lt;chr&gt; | price &lt;chr&gt; | minimum_nights &lt;chr&gt; | number_of_reviews &lt;chr&gt; | reviews_per_month &lt;chr&gt; |\n",
       "|---|---|---|---|---|---|---|\n",
       "| 1 | Brooklyn  | Private room    | 149 | 1  | 9   | 0.21 |\n",
       "| 2 | Manhattan | Entire home/apt | 225 | 1  | 45  | 0.38 |\n",
       "| 3 | Manhattan | Private room    | 150 | 3  | 0   | <!----> |\n",
       "| 4 | Brooklyn  | Entire home/apt | 89  | 1  | 270 | 4.64 |\n",
       "| 5 | Manhattan | Entire home/apt | 80  | 10 | 9   | 0.1  |\n",
       "| 6 | Manhattan | Entire home/apt | 200 | 3  | 74  | 0.59 |\n",
       "\n"
      ],
      "text/plain": [
       "  neighbourhood_group room_type       price minimum_nights number_of_reviews\n",
       "1 Brooklyn            Private room    149   1              9                \n",
       "2 Manhattan           Entire home/apt 225   1              45               \n",
       "3 Manhattan           Private room    150   3              0                \n",
       "4 Brooklyn            Entire home/apt 89    1              270              \n",
       "5 Manhattan           Entire home/apt 80    10             9                \n",
       "6 Manhattan           Entire home/apt 200   3              74               \n",
       "  reviews_per_month\n",
       "1 0.21             \n",
       "2 0.38             \n",
       "3                  \n",
       "4 4.64             \n",
       "5 0.1              \n",
       "6 0.59             "
      ]
     },
     "metadata": {},
     "output_type": "display_data"
    },
    {
     "name": "stderr",
     "output_type": "stream",
     "text": [
      "Warning message in eval(expr, envir, enclos):\n",
      "\"強制變更過程中產生了 NA\"\n",
      "Warning message in eval(expr, envir, enclos):\n",
      "\"強制變更過程中產生了 NA\"\n",
      "Warning message in eval(expr, envir, enclos):\n",
      "\"強制變更過程中產生了 NA\"\n",
      "Warning message in eval(expr, envir, enclos):\n",
      "\"強制變更過程中產生了 NA\"\n"
     ]
    }
   ],
   "source": [
    "library(tidyverse)\n",
    "df <- df %>% select(neighbourhood_group, room_type, price, minimum_nights, number_of_reviews, reviews_per_month)\n",
    "\n",
    "head(df) # 48576 total obs.\n",
    "\n",
    "df$neighbourhood_group <- as.factor(df$neighbourhood_group)\n",
    "df$room_type <- as.factor(df$room_type)\n",
    "df$price <- as.numeric(df$price)\n",
    "df$minimum_nights <- as.numeric(df$minimum_nights)\n",
    "df$number_of_reviews <- as.numeric(df$number_of_reviews)\n",
    "df$reviews_per_month <- as.numeric(df$reviews_per_month)"
   ]
  },
  {
   "cell_type": "markdown",
   "metadata": {},
   "source": [
    "- Insert median to replace 'NA' value because I think mean will impact by outlier, I choose median."
   ]
  },
  {
   "cell_type": "code",
   "execution_count": 16,
   "metadata": {},
   "outputs": [],
   "source": [
    "for (i in 1:nrow(df)){\n",
    "    if (is.na(df$price[i])){\n",
    "    df$price[i] = median((df %>% filter(price!='NA'))$price)\n",
    "    }}\n",
    "\n",
    "for (i in 1:nrow(df)){\n",
    "    if(is.na(df$number_of_reviews[i])){\n",
    "        df$number_of_reviews[i] = median((df %>% filter(number_of_reviews!='NA'))$number_of_reviews)\n",
    "    }}\n",
    "\n",
    "for (i in 1:nrow(df)){\n",
    "    if(is.na(df$reviews_per_month[i])){\n",
    "        df$reviews_per_month[i] = median((df %>% filter(reviews_per_month!='NA'))$reviews_per_month)\n",
    "    }}\n",
    "\n",
    "for (i in 1:nrow(df)){\n",
    "    if (is.na(df$minimum_nights[i])){\n",
    "    df$minimum_nights[i] = median((df %>% filter(minimum_nights!='NA'))$minimum_nights)\n",
    "    }}"
   ]
  },
  {
   "cell_type": "code",
   "execution_count": 17,
   "metadata": {},
   "outputs": [
    {
     "data": {
      "text/html": [
       "<style>\n",
       ".dl-inline {width: auto; margin:0; padding: 0}\n",
       ".dl-inline>dt, .dl-inline>dd {float: none; width: auto; display: inline-block}\n",
       ".dl-inline>dt::after {content: \":\\0020\"; padding-right: .5ex}\n",
       ".dl-inline>dt:not(:first-of-type) {padding-left: .5ex}\n",
       "</style><dl class=dl-inline><dt>neighbourhood_group</dt><dd>0</dd><dt>room_type</dt><dd>0</dd><dt>price</dt><dd>0</dd><dt>minimum_nights</dt><dd>0</dd><dt>number_of_reviews</dt><dd>0</dd><dt>reviews_per_month</dt><dd>0</dd></dl>\n"
      ],
      "text/latex": [
       "\\begin{description*}\n",
       "\\item[neighbourhood\\textbackslash{}\\_group] 0\n",
       "\\item[room\\textbackslash{}\\_type] 0\n",
       "\\item[price] 0\n",
       "\\item[minimum\\textbackslash{}\\_nights] 0\n",
       "\\item[number\\textbackslash{}\\_of\\textbackslash{}\\_reviews] 0\n",
       "\\item[reviews\\textbackslash{}\\_per\\textbackslash{}\\_month] 0\n",
       "\\end{description*}\n"
      ],
      "text/markdown": [
       "neighbourhood_group\n",
       ":   0room_type\n",
       ":   0price\n",
       ":   0minimum_nights\n",
       ":   0number_of_reviews\n",
       ":   0reviews_per_month\n",
       ":   0\n",
       "\n"
      ],
      "text/plain": [
       "neighbourhood_group           room_type               price      minimum_nights \n",
       "                  0                   0                   0                   0 \n",
       "  number_of_reviews   reviews_per_month \n",
       "                  0                   0 "
      ]
     },
     "metadata": {},
     "output_type": "display_data"
    }
   ],
   "source": [
    "colSums(is.na(df))"
   ]
  },
  {
   "cell_type": "markdown",
   "metadata": {},
   "source": [
    "- Check outliers. Beyond the range of -1.5*IQR to 1.5*IQR"
   ]
  },
  {
   "cell_type": "code",
   "execution_count": 18,
   "metadata": {},
   "outputs": [],
   "source": [
    "# Calculate % of outliers using interquartile range method\n",
    "outlier_per <- function(x){\n",
    "    lowerq = quantile(x)[2]\n",
    "    upperq = quantile(x)[4]\n",
    "    iqr = upperq - lowerq\n",
    "    threshold_upper = (iqr * 1.5) + upperq\n",
    "    threshold_lower = lowerq - (iqr * 1.5)\n",
    "    count <- length(which(x > threshold_upper | x < threshold_lower))\n",
    "    per <- count/length(x)\n",
    "    result <- per*100\n",
    "    result\n",
    "}"
   ]
  },
  {
   "cell_type": "code",
   "execution_count": 19,
   "metadata": {},
   "outputs": [
    {
     "name": "stdout",
     "output_type": "stream",
     "text": [
      "neighbourhood_group : 6.05 % room_type : 13.76 % price : 12.7 % minimum_nights : 8.36 % "
     ]
    }
   ],
   "source": [
    "df_num = df %>% select(price, minimum_nights, number_of_reviews, reviews_per_month)\n",
    "X_num <- ncol(df_num)\n",
    "\n",
    "for (i in 1:X_num) {\n",
    "    colname <- colnames(df[i])\n",
    "    outliers <- round(outlier_per(df_num[,i]),2)\n",
    "    cat(colname,\":\", outliers,\"% \")\n",
    "}"
   ]
  },
  {
   "cell_type": "markdown",
   "metadata": {},
   "source": [
    "- Extract outliers to other group"
   ]
  },
  {
   "cell_type": "code",
   "execution_count": 20,
   "metadata": {},
   "outputs": [],
   "source": [
    "## price ##\n",
    "lowerq <- quantile(df[,3])[2]\n",
    "upperq <- quantile(df[,3])[4]\n",
    "iqr = upperq - lowerq\n",
    "threshold_upper = (iqr * 1.5) + upperq\n",
    "threshold_lower = lowerq - (iqr * 1.5)\n",
    "\n",
    "# find which rows are outliers\n",
    "p <- c()\n",
    "p <- which(df[,3] > threshold_upper | df[,3] < threshold_lower)\n",
    "\n",
    "# extract to other group\n",
    "df_outlier <- df[p, ]\n",
    "df <- df[-p, ]\n",
    "\n",
    "## minimum_nights ##\n",
    "lowerq <- quantile(df[,4])[2]\n",
    "upperq <- quantile(df[,4])[4]\n",
    "iqr = upperq - lowerq\n",
    "threshold_upper = (iqr * 1.5) + upperq\n",
    "threshold_lower = lowerq - (iqr * 1.5)\n",
    "\n",
    "# find which rows are outliers\n",
    "p <- c()\n",
    "p <- which(df[,4] > threshold_upper | df[,4] < threshold_lower)\n",
    "\n",
    "# extract to other group\n",
    "df_outlier <- rbind(df_outlier, df[p, ])\n",
    "df <- df[-p, ]\n",
    "\n",
    "## number_of_reviews ##\n",
    "lowerq <- quantile(df[,5])[2]\n",
    "upperq <- quantile(df[,5])[4]\n",
    "iqr = upperq - lowerq\n",
    "threshold_upper = (iqr * 1.5) + upperq\n",
    "threshold_lower = lowerq - (iqr * 1.5)\n",
    "\n",
    "# find which rows are outliers\n",
    "p <- c()\n",
    "p <- which(df[,5] > threshold_upper | df[,5] < threshold_lower)\n",
    "\n",
    "# extract to other group\n",
    "df_outlier <- rbind(df_outlier, df[p, ])\n",
    "df <- df[-p, ]\n",
    "\n",
    "## reviews_per_month ##\n",
    "lowerq <- quantile(df[,6])[2]\n",
    "upperq <- quantile(df[,6])[4]\n",
    "iqr = upperq - lowerq\n",
    "threshold_upper = (iqr * 1.5) + upperq\n",
    "threshold_lower = lowerq - (iqr * 1.5)\n",
    "\n",
    "# find which rows are outliers\n",
    "p <- c()\n",
    "p <- which(df[,6] > threshold_upper | df[,6] < threshold_lower)\n",
    "\n",
    "# extract to other group\n",
    "df_outlier <- rbind(df_outlier, df[p, ])\n",
    "df <- df[-p, ]"
   ]
  },
  {
   "cell_type": "code",
   "execution_count": 21,
   "metadata": {},
   "outputs": [
    {
     "name": "stdout",
     "output_type": "stream",
     "text": [
      "df: 31104 6\n",
      "df_outliers: 17472 6"
     ]
    }
   ],
   "source": [
    "cat('df:',dim(df))\n",
    "cat('\\ndf_outliers:',dim(df_outlier))"
   ]
  },
  {
   "cell_type": "markdown",
   "metadata": {},
   "source": [
    "- we can do some research on outliers in future, but now we are focusing on remain data."
   ]
  },
  {
   "cell_type": "markdown",
   "metadata": {},
   "source": [
    "## Split Data"
   ]
  },
  {
   "cell_type": "code",
   "execution_count": 24,
   "metadata": {},
   "outputs": [],
   "source": [
    "# convert neighbourhood_group, room_type to numeric.\n",
    "df$neighbourhood_group <- as.numeric(df$neighbourhood_group)\n",
    "df$room_type <- as.numeric(df$room_type)"
   ]
  },
  {
   "cell_type": "code",
   "execution_count": 26,
   "metadata": {},
   "outputs": [],
   "source": [
    "# split data\n",
    "set.seed(1)\n",
    "n = nrow(df)\n",
    "z = sample(n, n*0.8)\n",
    "\n",
    "train_df = df[z,]\n",
    "test_df = df[-z,]"
   ]
  },
  {
   "cell_type": "markdown",
   "metadata": {},
   "source": [
    "## Fit Linear Regression"
   ]
  },
  {
   "cell_type": "code",
   "execution_count": 27,
   "metadata": {},
   "outputs": [
    {
     "data": {
      "text/html": [
       "4453.32274725538"
      ],
      "text/latex": [
       "4453.32274725538"
      ],
      "text/markdown": [
       "4453.32274725538"
      ],
      "text/plain": [
       "[1] 4453.323"
      ]
     },
     "metadata": {},
     "output_type": "display_data"
    }
   ],
   "source": [
    "train_reg_df <- lm(price~., data= train_df)\n",
    "\n",
    "Yhat= predict(train_reg_df, test_df)\n",
    "Y= test_df$price\n",
    "MSE= mean((Y-Yhat)^2)\n",
    "MSE"
   ]
  },
  {
   "cell_type": "markdown",
   "metadata": {},
   "source": [
    "## KNN"
   ]
  },
  {
   "cell_type": "code",
   "execution_count": 28,
   "metadata": {},
   "outputs": [],
   "source": [
    "library(class)\n",
    "xtrain = train_df %>% select(neighbourhood_group, room_type, minimum_nights, number_of_reviews, reviews_per_month)\n",
    "xtrain = scale(xtrain)\n",
    "xtrain = data.frame(xtrain)\n",
    "ytrain = train_df %>% select(price)\n",
    "\n",
    "xtest = test_df %>% select(neighbourhood_group, room_type, minimum_nights, number_of_reviews, reviews_per_month)\n",
    "xtest = scale(xtest)\n",
    "xtest = data.frame(xtest)\n",
    "ytest = test_df %>% select(price)"
   ]
  },
  {
   "cell_type": "code",
   "execution_count": 29,
   "metadata": {},
   "outputs": [
    {
     "name": "stderr",
     "output_type": "stream",
     "text": [
      "\n",
      "Attaching package: 'FNN'\n",
      "\n",
      "\n",
      "The following objects are masked from 'package:class':\n",
      "\n",
      "    knn, knn.cv\n",
      "\n",
      "\n"
     ]
    },
    {
     "data": {
      "text/html": [
       "20"
      ],
      "text/latex": [
       "20"
      ],
      "text/markdown": [
       "20"
      ],
      "text/plain": [
       "[1] 20"
      ]
     },
     "metadata": {},
     "output_type": "display_data"
    },
    {
     "data": {
      "text/html": [
       "2856.37797989287"
      ],
      "text/latex": [
       "2856.37797989287"
      ],
      "text/markdown": [
       "2856.37797989287"
      ],
      "text/plain": [
       "[1] 2856.378"
      ]
     },
     "metadata": {},
     "output_type": "display_data"
    },
    {
     "data": {
      "image/png": "[encoded data removed]",
      "text/plain": [
       "plot without title"
      ]
     },
     "metadata": {
      "image/png": {
       "height": 420,
       "width": 420
      }
     },
     "output_type": "display_data"
    }
   ],
   "source": [
    "# choose K\n",
    "library(FNN)\n",
    "mse = rep(0,100) # calculate error for each K\n",
    "\n",
    "# k= 1\n",
    "yhat = knn.reg(xtrain, xtest, ytrain, 1)\n",
    "yhat = yhat$pred\n",
    "Y= ytest[,1]\n",
    "mse[1] = mean((Y-yhat)^2)\n",
    "\n",
    "# k= 3~100\n",
    "for (k in 3:100){ # k=2 has Error in as.matrix(x)[i] : subscript out of bounds.\n",
    "  yhat = knn.reg(xtrain, xtest, ytrain, k)\n",
    "  yhat = yhat$pred\n",
    "  Y= ytest[,1]\n",
    "  mse[k] = mean((Y-yhat)^2)\n",
    "}\n",
    "\n",
    "k= 1:100\n",
    "plot(k, mse, type=\"b\", lwd=5)\n",
    "which.min(mse[-2]) # K= 20 is lowest\n",
    "mse[20]"
   ]
  },
  {
   "cell_type": "markdown",
   "metadata": {},
   "source": [
    "## Decision Tree"
   ]
  },
  {
   "cell_type": "code",
   "execution_count": 30,
   "metadata": {},
   "outputs": [],
   "source": [
    "# Error in tree(price ~ ., data = train_df) : factor predictors must have at most 32 levels.\n",
    "# We can use cluster to fix it. But now we just we our converted numeric variables."
   ]
  },
  {
   "cell_type": "code",
   "execution_count": 31,
   "metadata": {},
   "outputs": [
    {
     "name": "stderr",
     "output_type": "stream",
     "text": [
      "Registered S3 method overwritten by 'tree':\n",
      "  method     from\n",
      "  print.tree cli \n",
      "\n"
     ]
    },
    {
     "data": {
      "image/png": "[encoded data removed]",
      "text/plain": [
       "plot without title"
      ]
     },
     "metadata": {
      "image/png": {
       "height": 420,
       "width": 420
      }
     },
     "output_type": "display_data"
    }
   ],
   "source": [
    "library(tree)\n",
    "ab.tree <- tree(price ~., data= train_df) ## mindev default value is 0.01\n",
    "                                          ## higher mindev will have smaller tree\n",
    "plot(ab.tree,type = \"uniform\")\n",
    "text(ab.tree,cex=0.8)"
   ]
  },
  {
   "cell_type": "code",
   "execution_count": 32,
   "metadata": {},
   "outputs": [
    {
     "name": "stdout",
     "output_type": "stream",
     "text": [
      "[1] \"The optimal value of mindev is 5e-04 with a MSE of 2560.49309615225\"\n"
     ]
    }
   ],
   "source": [
    "best.mindev <- -1\n",
    "MSE <- -1\n",
    "best.MSE <- 99999999\n",
    "for (i in 1:100) {\n",
    "  ab.tree <- tree(price ~., data= train_df, mindev=0.0005*i)\n",
    "  ab.tree.predictions <- predict(ab.tree, test_df)\n",
    "  \n",
    "  MSE <- mean((test_df$price- ab.tree.predictions)^2)\n",
    "  \n",
    "  if (MSE < best.MSE) {\n",
    "    best.mindev <- 0.0005*i\n",
    "    best.MSE <- MSE\n",
    "  }\n",
    "}\n",
    "print(paste(\"The optimal value of mindev is\",best.mindev,\"with a MSE of\",best.MSE))"
   ]
  },
  {
   "cell_type": "markdown",
   "metadata": {},
   "source": [
    "## Result"
   ]
  },
  {
   "cell_type": "markdown",
   "metadata": {},
   "source": [
    "- After fitting three different models, I select Decision Tree to be best model with lowest MSE. In the future, we can try to dig more information in outliers group. Also, we can try to use cluster to fix tree model's problem."
   ]
  },
  {
   "cell_type": "code",
   "execution_count": null,
   "metadata": {},
   "outputs": [],
   "source": []
  }
 ],
 "metadata": {
  "kernelspec": {
   "display_name": "R",
   "language": "R",
   "name": "ir"
  },
  "language_info": {
   "codemirror_mode": "r",
   "file_extension": ".r",
   "mimetype": "text/x-r-source",
   "name": "R",
   "pygments_lexer": "r",
   "version": "4.0.5"
  }
 },
 "nbformat": 4,
 "nbformat_minor": 4
}
